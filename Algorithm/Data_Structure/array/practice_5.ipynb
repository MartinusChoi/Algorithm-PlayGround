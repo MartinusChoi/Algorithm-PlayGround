{
 "cells": [
  {
   "cell_type": "code",
   "execution_count": 1,
   "id": "5b801056",
   "metadata": {},
   "outputs": [],
   "source": [
    "def solution(arr1, arr2):\n",
    "    result_mat = []\n",
    "\n",
    "    for m in range(0, len(arr1)):\n",
    "        sub_mat = []\n",
    "\n",
    "        for k in range(0, len(arr2[0])):\n",
    "            value = 0\n",
    "            for n in range(0, len(arr1[0])):\n",
    "                value += (arr1[m][n] * arr2[n][k])\n",
    "            sub_mat.append(value)\n",
    "        \n",
    "        result_mat.append(sub_mat)\n",
    "    \n",
    "    return result_mat"
   ]
  },
  {
   "cell_type": "code",
   "execution_count": 2,
   "id": "6ef37cff",
   "metadata": {},
   "outputs": [
    {
     "name": "stdout",
     "output_type": "stream",
     "text": [
      "[[15, 15], [15, 15], [15, 15]]\n"
     ]
    }
   ],
   "source": [
    "arr1 = [[1,4], [3,2], [4,1]]\n",
    "arr2 = [[3,3], [3,3]]\n",
    "\n",
    "print(solution(arr1, arr2))"
   ]
  },
  {
   "cell_type": "code",
   "execution_count": 3,
   "id": "2cdebb55",
   "metadata": {},
   "outputs": [
    {
     "name": "stdout",
     "output_type": "stream",
     "text": [
      "[[22, 22, 11], [36, 28, 18], [29, 20, 14]]\n"
     ]
    }
   ],
   "source": [
    "arr1 = [[2,3,2], [4,2,4], [3,1,4]]\n",
    "arr2 = [[5,4,3], [2,4,1], [3,1,1]]\n",
    "\n",
    "print(solution(arr1, arr2))"
   ]
  },
  {
   "cell_type": "code",
   "execution_count": null,
   "id": "f9ad9d84",
   "metadata": {},
   "outputs": [],
   "source": []
  }
 ],
 "metadata": {
  "kernelspec": {
   "display_name": "llm",
   "language": "python",
   "name": "python3"
  },
  "language_info": {
   "codemirror_mode": {
    "name": "ipython",
    "version": 3
   },
   "file_extension": ".py",
   "mimetype": "text/x-python",
   "name": "python",
   "nbconvert_exporter": "python",
   "pygments_lexer": "ipython3",
   "version": "3.11.11"
  }
 },
 "nbformat": 4,
 "nbformat_minor": 5
}
