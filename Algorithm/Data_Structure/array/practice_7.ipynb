{
 "cells": [
  {
   "cell_type": "code",
   "execution_count": 11,
   "id": "4432c905",
   "metadata": {},
   "outputs": [],
   "source": [
    "def solution(dirs:int) -> int:\n",
    "    cur_pos = (0,0)\n",
    "    unique_len = 0\n",
    "    routes = []\n",
    "    numeric_dirs = []\n",
    "\n",
    "    for dir in dirs:\n",
    "        if dir == 'U' : numeric_dirs.append((0,1))\n",
    "        elif dir == 'D' : numeric_dirs.append((0,-1))\n",
    "        elif dir == 'R' : numeric_dirs.append((1,0))\n",
    "        elif dir == 'L' : numeric_dirs.append((-1,0))\n",
    "    \n",
    "    for dir in numeric_dirs:\n",
    "        next_pos = (cur_pos[0]+dir[0], cur_pos[1]+dir[1])\n",
    "        if ((-5<=next_pos[0]) & (next_pos[0]<=5)) and ((-5<=next_pos[1]) & (next_pos[1]<=5)):\n",
    "            cur_route_fwd = cur_pos + next_pos\n",
    "            cur_route_bwd = next_pos + cur_pos\n",
    "\n",
    "            if (cur_route_fwd not in routes) & (cur_route_bwd not in routes) : \n",
    "                unique_len += 1\n",
    "\n",
    "                routes.append(cur_route_fwd)\n",
    "                routes.append(cur_route_bwd)\n",
    "            \n",
    "            cur_pos = next_pos\n",
    "    \n",
    "    return unique_len"
   ]
  },
  {
   "cell_type": "code",
   "execution_count": 13,
   "id": "3d0a5d93",
   "metadata": {},
   "outputs": [
    {
     "data": {
      "text/plain": [
       "7"
      ]
     },
     "execution_count": 13,
     "metadata": {},
     "output_type": "execute_result"
    }
   ],
   "source": [
    "dirs = 'LULLLLLLU'\n",
    "\n",
    "solution(dirs)"
   ]
  },
  {
   "cell_type": "code",
   "execution_count": null,
   "id": "fcd517f0",
   "metadata": {},
   "outputs": [],
   "source": []
  }
 ],
 "metadata": {
  "kernelspec": {
   "display_name": "codingtest",
   "language": "python",
   "name": "python3"
  },
  "language_info": {
   "codemirror_mode": {
    "name": "ipython",
    "version": 3
   },
   "file_extension": ".py",
   "mimetype": "text/x-python",
   "name": "python",
   "nbconvert_exporter": "python",
   "pygments_lexer": "ipython3",
   "version": "3.11.8"
  }
 },
 "nbformat": 4,
 "nbformat_minor": 5
}
