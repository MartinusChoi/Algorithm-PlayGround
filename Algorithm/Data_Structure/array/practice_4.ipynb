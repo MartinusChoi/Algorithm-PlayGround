{
 "cells": [
  {
   "cell_type": "code",
   "execution_count": 9,
   "id": "72e01147",
   "metadata": {},
   "outputs": [],
   "source": [
    "def solution(answers):\n",
    "    student_1 = [1,2,3,4,5]\n",
    "    student_2 = [2,1,2,3,2,4,2,5]\n",
    "    student_3 = [3,3,1,1,2,2,4,4,5,5]\n",
    "\n",
    "    idx = [0,0,0]\n",
    "    score = [0,0,0]\n",
    "\n",
    "    result = []\n",
    "\n",
    "    for answer in answers:\n",
    "        if student_1[idx[0]] == answer : score[0] += 1\n",
    "        if student_2[idx[1]] == answer : score[1] += 1\n",
    "        if student_3[idx[2]] == answer : score[2] += 1\n",
    "\n",
    "        if idx[0] == 4 : idx[0]=0\n",
    "        else : idx[0] += 1\n",
    "        if idx[1] == 7 : idx[1]=0\n",
    "        else : idx[1] += 1\n",
    "        if idx[2] == 9 : idx[2]=0\n",
    "        else : idx[2] += 1\n",
    "\n",
    "    max_score = max(score)\n",
    "    for id, val in enumerate(score):\n",
    "        if val == max_score : result.append(id+1)\n",
    "    \n",
    "    return result\n"
   ]
  },
  {
   "cell_type": "code",
   "execution_count": 10,
   "id": "9d401996",
   "metadata": {},
   "outputs": [
    {
     "name": "stdout",
     "output_type": "stream",
     "text": [
      "[1]\n"
     ]
    }
   ],
   "source": [
    "answers = [1,2,3,4,5]\n",
    "\n",
    "print(solution(answers))"
   ]
  },
  {
   "cell_type": "code",
   "execution_count": 11,
   "id": "9ba847ff",
   "metadata": {},
   "outputs": [
    {
     "name": "stdout",
     "output_type": "stream",
     "text": [
      "[1, 2, 3]\n"
     ]
    }
   ],
   "source": [
    "answers = [1,3,2,4,2]\n",
    "\n",
    "print(solution(answers))"
   ]
  },
  {
   "cell_type": "code",
   "execution_count": null,
   "id": "384e635b",
   "metadata": {},
   "outputs": [],
   "source": []
  }
 ],
 "metadata": {
  "kernelspec": {
   "display_name": "llm",
   "language": "python",
   "name": "python3"
  },
  "language_info": {
   "codemirror_mode": {
    "name": "ipython",
    "version": 3
   },
   "file_extension": ".py",
   "mimetype": "text/x-python",
   "name": "python",
   "nbconvert_exporter": "python",
   "pygments_lexer": "ipython3",
   "version": "3.11.11"
  }
 },
 "nbformat": 4,
 "nbformat_minor": 5
}
