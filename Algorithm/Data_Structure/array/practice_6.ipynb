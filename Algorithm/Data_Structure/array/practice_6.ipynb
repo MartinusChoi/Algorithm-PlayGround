{
 "cells": [
  {
   "cell_type": "code",
   "execution_count": null,
   "id": "6fa61c5a",
   "metadata": {},
   "outputs": [],
   "source": [
    "def solution(N, stages):\n",
    "    stages.sort()\n",
    "\n",
    "    fail_rates = []\n",
    "    result = []\n",
    "\n",
    "    for stage in range(N):\n",
    "        if (stage+1) in stages:\n",
    "            fail_rate = (stages.count(stage+1)) / (len(stages[stages.index(stage+1):]))\n",
    "        else:\n",
    "            fail_rate = 0\n",
    "        \n",
    "        fail_rates.append(fail_rate)\n",
    "    \n",
    "    fail_rate_dict = {}\n",
    "    for idx, fail_rate in enumerate(fail_rates):\n",
    "        if fail_rate in fail_rate_dict.keys():\n",
    "            fail_rate_dict[fail_rate].append(idx+1)\n",
    "        else:\n",
    "            fail_rate_dict[fail_rate] = [idx+1]\n",
    "    \n",
    "    sorted_unique_fail_rates = sorted(fail_rate_dict.keys(), reverse=True)\n",
    "    for fail_rate in sorted_unique_fail_rates:\n",
    "        result.extend(fail_rate_dict[fail_rate])\n",
    "    \n",
    "    return result"
   ]
  },
  {
   "cell_type": "code",
   "execution_count": 64,
   "id": "c72bb053",
   "metadata": {},
   "outputs": [
    {
     "data": {
      "text/plain": [
       "[4, 1, 2, 3]"
      ]
     },
     "execution_count": 64,
     "metadata": {},
     "output_type": "execute_result"
    }
   ],
   "source": [
    "N = 4\n",
    "stages = [4,4,4,4,4]\n",
    "\n",
    "solution(N, stages)"
   ]
  },
  {
   "cell_type": "code",
   "execution_count": null,
   "id": "496c24e0",
   "metadata": {},
   "outputs": [],
   "source": []
  }
 ],
 "metadata": {
  "kernelspec": {
   "display_name": "codingtest",
   "language": "python",
   "name": "python3"
  },
  "language_info": {
   "codemirror_mode": {
    "name": "ipython",
    "version": 3
   },
   "file_extension": ".py",
   "mimetype": "text/x-python",
   "name": "python",
   "nbconvert_exporter": "python",
   "pygments_lexer": "ipython3",
   "version": "3.11.8"
  }
 },
 "nbformat": 4,
 "nbformat_minor": 5
}
