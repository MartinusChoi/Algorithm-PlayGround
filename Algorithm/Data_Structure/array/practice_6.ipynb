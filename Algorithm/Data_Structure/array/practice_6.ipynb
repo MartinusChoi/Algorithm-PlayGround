{
 "cells": [
  {
   "cell_type": "code",
   "execution_count": 19,
   "id": "6fa61c5a",
   "metadata": {},
   "outputs": [],
   "source": [
    "def solution(N, stages):\n",
    "    fail_rate = [0] * N\n",
    "\n",
    "    stages.sort()\n",
    "\n",
    "    cur_stage_num = stages[0] - 1\n",
    "\n",
    "    for idx, player_stage_num in enumerate(stages):\n",
    "        if (player_stage_num-1) > cur_stage_num :\n",
    "            fail_rate[cur_stage_num] /= (fail_rate[cur_stage_num] + len(stages[idx:-1]))\n",
    "            cur_stage_num = (player_stage_num - 1)\n",
    "        else:\n",
    "            fail_rate[cur_stage_num] += 1\n",
    "\n",
    "        print(fail_rate)\n",
    "    \n",
    "    return fail_rate"
   ]
  },
  {
   "cell_type": "code",
   "execution_count": 20,
   "id": "664e4f7d",
   "metadata": {},
   "outputs": [
    {
     "name": "stdout",
     "output_type": "stream",
     "text": [
      "[1, 0, 0, 0, 0]\n",
      "[0.16666666666666666, 0, 0, 0, 0]\n",
      "[0.16666666666666666, 1, 0, 0, 0]\n",
      "[0.16666666666666666, 2, 0, 0, 0]\n",
      "[0.16666666666666666, 0.5, 0, 0, 0]\n",
      "[0.16666666666666666, 0.5, 0.0, 0, 0]\n"
     ]
    },
    {
     "ename": "ZeroDivisionError",
     "evalue": "division by zero",
     "output_type": "error",
     "traceback": [
      "\u001b[1;31m---------------------------------------------------------------------------\u001b[0m",
      "\u001b[1;31mZeroDivisionError\u001b[0m                         Traceback (most recent call last)",
      "Cell \u001b[1;32mIn[20], line 4\u001b[0m\n\u001b[0;32m      1\u001b[0m N \u001b[38;5;241m=\u001b[39m \u001b[38;5;241m5\u001b[39m\n\u001b[0;32m      2\u001b[0m stages \u001b[38;5;241m=\u001b[39m [\u001b[38;5;241m2\u001b[39m,\u001b[38;5;241m1\u001b[39m,\u001b[38;5;241m2\u001b[39m,\u001b[38;5;241m6\u001b[39m,\u001b[38;5;241m2\u001b[39m,\u001b[38;5;241m4\u001b[39m,\u001b[38;5;241m3\u001b[39m]\n\u001b[1;32m----> 4\u001b[0m \u001b[38;5;28mprint\u001b[39m(solution(N, stages))\n",
      "Cell \u001b[1;32mIn[19], line 10\u001b[0m, in \u001b[0;36msolution\u001b[1;34m(N, stages)\u001b[0m\n\u001b[0;32m      8\u001b[0m \u001b[38;5;28;01mfor\u001b[39;00m idx, player_stage_num \u001b[38;5;129;01min\u001b[39;00m \u001b[38;5;28menumerate\u001b[39m(stages):\n\u001b[0;32m      9\u001b[0m     \u001b[38;5;28;01mif\u001b[39;00m (player_stage_num\u001b[38;5;241m-\u001b[39m\u001b[38;5;241m1\u001b[39m) \u001b[38;5;241m>\u001b[39m cur_stage_num :\n\u001b[1;32m---> 10\u001b[0m         fail_rate[cur_stage_num] \u001b[38;5;241m/\u001b[39m\u001b[38;5;241m=\u001b[39m (fail_rate[cur_stage_num] \u001b[38;5;241m+\u001b[39m \u001b[38;5;28mlen\u001b[39m(stages[idx:\u001b[38;5;241m-\u001b[39m\u001b[38;5;241m1\u001b[39m]))\n\u001b[0;32m     11\u001b[0m         cur_stage_num \u001b[38;5;241m=\u001b[39m (player_stage_num \u001b[38;5;241m-\u001b[39m \u001b[38;5;241m1\u001b[39m)\n\u001b[0;32m     12\u001b[0m     \u001b[38;5;28;01melse\u001b[39;00m:\n",
      "\u001b[1;31mZeroDivisionError\u001b[0m: division by zero"
     ]
    }
   ],
   "source": [
    "N = 5\n",
    "stages = [2,1,2,6,2,4,3]\n",
    "\n",
    "print(solution(N, stages))"
   ]
  },
  {
   "cell_type": "code",
   "execution_count": null,
   "id": "8fb70960",
   "metadata": {},
   "outputs": [],
   "source": []
  }
 ],
 "metadata": {
  "kernelspec": {
   "display_name": "codingtest",
   "language": "python",
   "name": "python3"
  },
  "language_info": {
   "codemirror_mode": {
    "name": "ipython",
    "version": 3
   },
   "file_extension": ".py",
   "mimetype": "text/x-python",
   "name": "python",
   "nbconvert_exporter": "python",
   "pygments_lexer": "ipython3",
   "version": "3.11.0"
  }
 },
 "nbformat": 4,
 "nbformat_minor": 5
}
