{
 "cells": [
  {
   "cell_type": "markdown",
   "id": "afc956a5",
   "metadata": {},
   "source": [
    "`O(N^2)`"
   ]
  },
  {
   "cell_type": "code",
   "execution_count": 18,
   "id": "b9e27f90",
   "metadata": {},
   "outputs": [],
   "source": [
    "from collections import deque\n",
    "\n",
    "def solution(progresses:list, speeds:list) -> list:\n",
    "    distrib_per_day = []\n",
    "    \n",
    "    progresses = deque(progresses)\n",
    "    speeds = deque(speeds)\n",
    "    \n",
    "\n",
    "    while len(progresses) > 0:\n",
    "        for _ in range(len(progresses)):\n",
    "            progress, speed = progresses.popleft(), speeds.popleft()\n",
    "            progresses.append(progress+speed)\n",
    "            speeds.append(speed)\n",
    "        \n",
    "        day_distrib = 0\n",
    "        while (progresses) and (progresses[0] >= 100):\n",
    "            progresses.popleft(), speeds.popleft()\n",
    "            day_distrib += 1\n",
    "        if day_distrib > 0: distrib_per_day.append(day_distrib)\n",
    "    \n",
    "    return distrib_per_day"
   ]
  },
  {
   "cell_type": "markdown",
   "id": "3926b9eb",
   "metadata": {},
   "source": [
    "`O(N)`"
   ]
  },
  {
   "cell_type": "code",
   "execution_count": 24,
   "id": "8bc4f6e5",
   "metadata": {},
   "outputs": [],
   "source": [
    "import math\n",
    "\n",
    "def solution(progresses:list, speeds:list) -> list:\n",
    "    distirb_per_day = []\n",
    "    task_amount = len(progresses)\n",
    "    \n",
    "\n",
    "    # 각 task가 완료되기 까지 남은 날짜 계산\n",
    "    days_left = [math.ceil((100 - progresses[i]) / speeds[i]) for i in range(task_amount)]\n",
    "\n",
    "    day_distrib = 0\n",
    "    cur_max_day_left = days_left[0]\n",
    "\n",
    "    for i in range(task_amount):\n",
    "        if days_left[i] <= cur_max_day_left:\n",
    "            day_distrib += 1\n",
    "        else:\n",
    "            distirb_per_day.append(day_distrib)\n",
    "            day_distrib = 1\n",
    "            cur_max_day_left = days_left[i]\n",
    "    distirb_per_day.append(day_distrib)\n",
    "    \n",
    "    return distirb_per_day"
   ]
  },
  {
   "cell_type": "code",
   "execution_count": 25,
   "id": "62dfd3a5",
   "metadata": {},
   "outputs": [
    {
     "data": {
      "text/plain": [
       "[2, 1]"
      ]
     },
     "execution_count": 25,
     "metadata": {},
     "output_type": "execute_result"
    }
   ],
   "source": [
    "progresses = [93, 30, 50]\n",
    "speeds = [1, 30, 5]\n",
    "\n",
    "solution(progresses, speeds)"
   ]
  },
  {
   "cell_type": "code",
   "execution_count": 26,
   "id": "efbf9ccf",
   "metadata": {},
   "outputs": [
    {
     "data": {
      "text/plain": [
       "[1, 3, 2]"
      ]
     },
     "execution_count": 26,
     "metadata": {},
     "output_type": "execute_result"
    }
   ],
   "source": [
    "progresses = [95, 90, 99, 99, 80, 99]\n",
    "speeds = [1,1,1,1,1,1]\n",
    "\n",
    "solution(progresses, speeds)"
   ]
  }
 ],
 "metadata": {
  "kernelspec": {
   "display_name": "codingtest",
   "language": "python",
   "name": "python3"
  },
  "language_info": {
   "codemirror_mode": {
    "name": "ipython",
    "version": 3
   },
   "file_extension": ".py",
   "mimetype": "text/x-python",
   "name": "python",
   "nbconvert_exporter": "python",
   "pygments_lexer": "ipython3",
   "version": "3.11.8"
  }
 },
 "nbformat": 4,
 "nbformat_minor": 5
}
