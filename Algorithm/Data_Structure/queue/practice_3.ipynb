{
 "cells": [
  {
   "cell_type": "code",
   "execution_count": 1,
   "id": "923586c7",
   "metadata": {},
   "outputs": [],
   "source": [
    "def solution(cards1:list, cards2:list, goal:list) -> str:\n",
    "    for target in goal:\n",
    "        if cards1 and (target == cards1[0]): cards1.pop(0)\n",
    "        elif cards2 and (target == cards2[0]) : cards2.pop(0)\n",
    "        else: return \"No\"\n",
    "    return \"Yes\""
   ]
  },
  {
   "cell_type": "code",
   "execution_count": 2,
   "id": "dda6e6a4",
   "metadata": {},
   "outputs": [
    {
     "data": {
      "text/plain": [
       "'Yes'"
      ]
     },
     "execution_count": 2,
     "metadata": {},
     "output_type": "execute_result"
    }
   ],
   "source": [
    "cards1 = [\"i\", \"drink\", \"water\"]\n",
    "cards2 = [\"want\", \"to\"]\n",
    "goal = [\"i\", \"want\", \"to\", \"drink\", \"water\"]\n",
    "\n",
    "solution(cards1, cards2, goal)"
   ]
  },
  {
   "cell_type": "code",
   "execution_count": 4,
   "id": "6d5eb46c",
   "metadata": {},
   "outputs": [
    {
     "data": {
      "text/plain": [
       "'No'"
      ]
     },
     "execution_count": 4,
     "metadata": {},
     "output_type": "execute_result"
    }
   ],
   "source": [
    "cards1 = [\"i\", \"water\", \"drink\"]\n",
    "cards2 = [\"want\", \"to\"]\n",
    "goal = [\"i\", \"want\", \"to\", \"drink\", \"water\"]\n",
    "\n",
    "solution(cards1, cards2, goal)"
   ]
  }
 ],
 "metadata": {
  "kernelspec": {
   "display_name": "codingtest",
   "language": "python",
   "name": "python3"
  },
  "language_info": {
   "codemirror_mode": {
    "name": "ipython",
    "version": 3
   },
   "file_extension": ".py",
   "mimetype": "text/x-python",
   "name": "python",
   "nbconvert_exporter": "python",
   "pygments_lexer": "ipython3",
   "version": "3.11.8"
  }
 },
 "nbformat": 4,
 "nbformat_minor": 5
}
