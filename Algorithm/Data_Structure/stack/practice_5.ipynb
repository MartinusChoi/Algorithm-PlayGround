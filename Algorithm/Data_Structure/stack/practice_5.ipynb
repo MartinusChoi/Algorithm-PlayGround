{
 "cells": [
  {
   "cell_type": "markdown",
   "id": "660b66bc",
   "metadata": {},
   "source": [
    "`O(N^2)`"
   ]
  },
  {
   "cell_type": "code",
   "execution_count": 5,
   "id": "fb52cc02",
   "metadata": {},
   "outputs": [],
   "source": [
    "def get_time(cur_val:int, sub_pirces:list)->int:\n",
    "    stack = []\n",
    "\n",
    "    for val in sub_pirces:\n",
    "        stack.append(val)\n",
    "        if stack[-1] < cur_val : return len(stack)\n",
    "\n",
    "    return len(stack)\n",
    "\n",
    "def solution(prices:list)->list:\n",
    "    result = []\n",
    "\n",
    "    for idx, cur_val in enumerate(prices):\n",
    "        if idx == (len(prices)-1) : result.append(0)\n",
    "        else: result.append(get_time(cur_val, prices[idx+1:]))\n",
    "    \n",
    "    return result"
   ]
  },
  {
   "cell_type": "markdown",
   "id": "957c5f24",
   "metadata": {},
   "source": [
    "`O(N)`"
   ]
  },
  {
   "cell_type": "code",
   "execution_count": 91,
   "id": "1bf01647",
   "metadata": {},
   "outputs": [],
   "source": [
    "def solution(prices:list) -> list:\n",
    "    result = [0] * len(prices)\n",
    "    stack = []\n",
    "\n",
    "    for cur_idx, cur_val in enumerate(prices):\n",
    "        if cur_idx == 0 : stack.append(cur_idx)\n",
    "        else:\n",
    "            if prices[stack[-1]] <= cur_val: stack.append(cur_idx)\n",
    "            else:\n",
    "                while(prices[stack[-1]] > cur_val):\n",
    "                    top_idx = stack.pop()\n",
    "                    result[top_idx] = cur_idx - top_idx\n",
    "                    if len(stack) == 0: break\n",
    "                stack.append(cur_idx)\n",
    "    \n",
    "    while(len(stack)>0):\n",
    "        top_idx = stack.pop()\n",
    "        result[top_idx] = (len(prices) - top_idx - 1)\n",
    "\n",
    "    return result"
   ]
  },
  {
   "cell_type": "code",
   "execution_count": 92,
   "id": "f4dd40bb",
   "metadata": {},
   "outputs": [
    {
     "data": {
      "text/plain": [
       "[4, 3, 1, 1, 0]"
      ]
     },
     "execution_count": 92,
     "metadata": {},
     "output_type": "execute_result"
    }
   ],
   "source": [
    "prices = [1,2,3,2,3]\n",
    "\n",
    "solution(prices)"
   ]
  },
  {
   "cell_type": "code",
   "execution_count": 93,
   "id": "57897c13",
   "metadata": {},
   "outputs": [
    {
     "data": {
      "text/plain": [
       "[1, 1, 1, 0]"
      ]
     },
     "execution_count": 93,
     "metadata": {},
     "output_type": "execute_result"
    }
   ],
   "source": [
    "prices = [4,3,2,1]\n",
    "\n",
    "solution(prices)"
   ]
  },
  {
   "cell_type": "code",
   "execution_count": 94,
   "id": "de030d93",
   "metadata": {},
   "outputs": [
    {
     "data": {
      "text/plain": [
       "[3, 2, 1, 0]"
      ]
     },
     "execution_count": 94,
     "metadata": {},
     "output_type": "execute_result"
    }
   ],
   "source": [
    "prices = [1,2,3,4]\n",
    "\n",
    "solution(prices)"
   ]
  },
  {
   "cell_type": "code",
   "execution_count": null,
   "id": "65173d57",
   "metadata": {},
   "outputs": [],
   "source": []
  }
 ],
 "metadata": {
  "kernelspec": {
   "display_name": "codingtest",
   "language": "python",
   "name": "python3"
  },
  "language_info": {
   "codemirror_mode": {
    "name": "ipython",
    "version": 3
   },
   "file_extension": ".py",
   "mimetype": "text/x-python",
   "name": "python",
   "nbconvert_exporter": "python",
   "pygments_lexer": "ipython3",
   "version": "3.11.8"
  }
 },
 "nbformat": 4,
 "nbformat_minor": 5
}
