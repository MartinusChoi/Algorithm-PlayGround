{
 "cells": [
  {
   "cell_type": "code",
   "execution_count": 8,
   "id": "be892749",
   "metadata": {},
   "outputs": [],
   "source": [
    "def solution(simbols:str)->bool:\n",
    "    open_stack = []\n",
    "\n",
    "    for simbol in simbols:\n",
    "        if simbol == '(':\n",
    "            open_stack.append(simbol)\n",
    "        else:\n",
    "            if len(open_stack) == 0:\n",
    "                return False\n",
    "            open_stack.pop()\n",
    "    \n",
    "    return False if len(open_stack) > 0 else True"
   ]
  },
  {
   "cell_type": "code",
   "execution_count": 9,
   "id": "22d40f70",
   "metadata": {},
   "outputs": [
    {
     "data": {
      "text/plain": [
       "True"
      ]
     },
     "execution_count": 9,
     "metadata": {},
     "output_type": "execute_result"
    }
   ],
   "source": [
    "s = '(())()'\n",
    "\n",
    "solution(s)"
   ]
  },
  {
   "cell_type": "code",
   "execution_count": 10,
   "id": "d7a530eb",
   "metadata": {},
   "outputs": [
    {
     "data": {
      "text/plain": [
       "False"
      ]
     },
     "execution_count": 10,
     "metadata": {},
     "output_type": "execute_result"
    }
   ],
   "source": [
    "s = '((())())))'\n",
    "\n",
    "solution(s)"
   ]
  },
  {
   "cell_type": "code",
   "execution_count": null,
   "id": "718a6a05",
   "metadata": {},
   "outputs": [],
   "source": []
  }
 ],
 "metadata": {
  "kernelspec": {
   "display_name": "codingtest",
   "language": "python",
   "name": "python3"
  },
  "language_info": {
   "codemirror_mode": {
    "name": "ipython",
    "version": 3
   },
   "file_extension": ".py",
   "mimetype": "text/x-python",
   "name": "python",
   "nbconvert_exporter": "python",
   "pygments_lexer": "ipython3",
   "version": "3.11.8"
  }
 },
 "nbformat": 4,
 "nbformat_minor": 5
}
