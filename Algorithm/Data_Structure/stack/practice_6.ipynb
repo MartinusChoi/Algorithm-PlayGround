{
 "cells": [
  {
   "cell_type": "code",
   "execution_count": 16,
   "id": "83e073ec",
   "metadata": {},
   "outputs": [],
   "source": [
    "def show_board(board, N):\n",
    "    for i in range(1,N+1):\n",
    "        for j in range(N):\n",
    "            print(f\"{board[j][-i]} \", end=\"\")\n",
    "        print()"
   ]
  },
  {
   "cell_type": "code",
   "execution_count": 39,
   "id": "da4211d5",
   "metadata": {},
   "outputs": [],
   "source": [
    "def make_empty_doll_stacks(N):\n",
    "    doll_stacks = []\n",
    "\n",
    "    for _ in range(N):\n",
    "        doll_stacks.append([])\n",
    "    \n",
    "    return doll_stacks\n",
    "\n",
    "def get_doll_stacks(board:list, N:int) -> list:\n",
    "    doll_stacks = make_empty_doll_stacks(N)\n",
    "\n",
    "    for row in board[::-1]:\n",
    "        for idx, doll_val in enumerate(row):\n",
    "            doll_stacks[idx].append(doll_val)\n",
    "    \n",
    "    return doll_stacks\n",
    "\n",
    "def remove_empty_space(doll_stacks:list) -> list:\n",
    "    \n",
    "    for idx in range(len(doll_stacks)):\n",
    "        while doll_stacks[idx] and doll_stacks[idx][-1] == 0 :\n",
    "            doll_stacks[idx].pop()\n",
    "    \n",
    "    return doll_stacks\n",
    "\n",
    "def solution(board:list, moves:list) -> int :\n",
    "    N = len(board[0])\n",
    "    \n",
    "    doll_stacks = get_doll_stacks(board, N)\n",
    "    busket = []\n",
    "\n",
    "    removed_doll_num = 0\n",
    "\n",
    "    doll_stacks = remove_empty_space(doll_stacks)\n",
    "\n",
    "    for move in moves:\n",
    "        if doll_stacks[move-1]:\n",
    "            cur_doll = doll_stacks[move-1].pop()\n",
    "\n",
    "            if busket and (busket[-1] == cur_doll):\n",
    "                busket.pop()\n",
    "                removed_doll_num += 2\n",
    "            else:\n",
    "                busket.append(cur_doll)\n",
    "    \n",
    "    return removed_doll_num"
   ]
  },
  {
   "cell_type": "code",
   "execution_count": 40,
   "id": "56ac92cc",
   "metadata": {},
   "outputs": [
    {
     "data": {
      "text/plain": [
       "4"
      ]
     },
     "execution_count": 40,
     "metadata": {},
     "output_type": "execute_result"
    }
   ],
   "source": [
    "board = [\n",
    "    [0,0,0,0,0],\n",
    "    [0,0,1,0,3],\n",
    "    [0,2,5,0,1],\n",
    "    [4,2,4,4,2],\n",
    "    [3,5,1,3,1]\n",
    "]\n",
    "moves = [1,5,3,5,1,2,1,4]\n",
    "\n",
    "solution(board, moves)"
   ]
  }
 ],
 "metadata": {
  "kernelspec": {
   "display_name": "codingtest",
   "language": "python",
   "name": "python3"
  },
  "language_info": {
   "codemirror_mode": {
    "name": "ipython",
    "version": 3
   },
   "file_extension": ".py",
   "mimetype": "text/x-python",
   "name": "python",
   "nbconvert_exporter": "python",
   "pygments_lexer": "ipython3",
   "version": "3.11.8"
  }
 },
 "nbformat": 4,
 "nbformat_minor": 5
}
