{
 "cells": [
  {
   "cell_type": "code",
   "execution_count": 14,
   "id": "d10a7cda",
   "metadata": {},
   "outputs": [],
   "source": [
    "def solution(N:int)->str:\n",
    "    stack = []\n",
    "    result = ''\n",
    "\n",
    "    while N > 0:\n",
    "        stack.append(N%2)\n",
    "        N //= 2\n",
    "    \n",
    "    while len(stack) > 0:\n",
    "        result += str(stack.pop())\n",
    "    \n",
    "    return result"
   ]
  },
  {
   "cell_type": "code",
   "execution_count": 15,
   "id": "14eccaa7",
   "metadata": {},
   "outputs": [
    {
     "data": {
      "text/plain": [
       "'1010'"
      ]
     },
     "execution_count": 15,
     "metadata": {},
     "output_type": "execute_result"
    }
   ],
   "source": [
    "N = 10\n",
    "\n",
    "solution(N)"
   ]
  },
  {
   "cell_type": "code",
   "execution_count": 16,
   "id": "1603975a",
   "metadata": {},
   "outputs": [
    {
     "data": {
      "text/plain": [
       "'11011'"
      ]
     },
     "execution_count": 16,
     "metadata": {},
     "output_type": "execute_result"
    }
   ],
   "source": [
    "N = 27\n",
    "\n",
    "solution(N)"
   ]
  },
  {
   "cell_type": "code",
   "execution_count": 17,
   "id": "d9e56b65",
   "metadata": {},
   "outputs": [
    {
     "data": {
      "text/plain": [
       "'11000000111001'"
      ]
     },
     "execution_count": 17,
     "metadata": {},
     "output_type": "execute_result"
    }
   ],
   "source": [
    "N = 12345\n",
    "\n",
    "solution(N)"
   ]
  }
 ],
 "metadata": {
  "kernelspec": {
   "display_name": "codingtest",
   "language": "python",
   "name": "python3"
  },
  "language_info": {
   "codemirror_mode": {
    "name": "ipython",
    "version": 3
   },
   "file_extension": ".py",
   "mimetype": "text/x-python",
   "name": "python",
   "nbconvert_exporter": "python",
   "pygments_lexer": "ipython3",
   "version": "3.11.8"
  }
 },
 "nbformat": 4,
 "nbformat_minor": 5
}
