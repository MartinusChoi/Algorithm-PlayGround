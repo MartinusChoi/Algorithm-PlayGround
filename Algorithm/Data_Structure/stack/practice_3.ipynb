{
 "cells": [
  {
   "cell_type": "code",
   "execution_count": 22,
   "id": "80c504a8",
   "metadata": {},
   "outputs": [],
   "source": [
    "def is_valid_string(string:str) -> bool:\n",
    "    stack = []\n",
    "\n",
    "    for char in string:\n",
    "        if char in [\"(\", \"[\", \"{\"] : stack.append(char)\n",
    "        elif len(stack) == 0 : return False\n",
    "        elif (char == \")\") and (stack[-1] == \"(\") : stack.pop()\n",
    "        elif (char == \"]\") and (stack[-1] == \"[\") : stack.pop()\n",
    "        elif (char == \"}\") and (stack[-1] == \"{\") : stack.pop()\n",
    "    \n",
    "    if len(stack) == 0: return True\n",
    "    else: return False\n",
    "\n",
    "def solution(s: str):\n",
    "    valid_num = 0\n",
    "\n",
    "    for _ in range(len(s)):\n",
    "        if is_valid_string(s): valid_num += 1\n",
    "        s = s[-1] + s[:-1]\n",
    "\n",
    "    return valid_num"
   ]
  },
  {
   "cell_type": "code",
   "execution_count": 23,
   "id": "d80157ce",
   "metadata": {},
   "outputs": [
    {
     "data": {
      "text/plain": [
       "3"
      ]
     },
     "execution_count": 23,
     "metadata": {},
     "output_type": "execute_result"
    }
   ],
   "source": [
    "s = \"[](){}\"\n",
    "\n",
    "solution(s)"
   ]
  },
  {
   "cell_type": "code",
   "execution_count": 24,
   "id": "0e0b2723",
   "metadata": {},
   "outputs": [
    {
     "data": {
      "text/plain": [
       "2"
      ]
     },
     "execution_count": 24,
     "metadata": {},
     "output_type": "execute_result"
    }
   ],
   "source": [
    "s = \"}]()[{\"\n",
    "\n",
    "solution(s)"
   ]
  },
  {
   "cell_type": "code",
   "execution_count": 25,
   "id": "f7dbea07",
   "metadata": {},
   "outputs": [
    {
     "data": {
      "text/plain": [
       "0"
      ]
     },
     "execution_count": 25,
     "metadata": {},
     "output_type": "execute_result"
    }
   ],
   "source": [
    "s = \"[)(]\"\n",
    "\n",
    "solution(s)"
   ]
  },
  {
   "cell_type": "code",
   "execution_count": 26,
   "id": "b9241ba0",
   "metadata": {},
   "outputs": [
    {
     "data": {
      "text/plain": [
       "0"
      ]
     },
     "execution_count": 26,
     "metadata": {},
     "output_type": "execute_result"
    }
   ],
   "source": [
    "s = \"}}}\"\n",
    "\n",
    "solution(s)"
   ]
  }
 ],
 "metadata": {
  "kernelspec": {
   "display_name": "codingtest",
   "language": "python",
   "name": "python3"
  },
  "language_info": {
   "codemirror_mode": {
    "name": "ipython",
    "version": 3
   },
   "file_extension": ".py",
   "mimetype": "text/x-python",
   "name": "python",
   "nbconvert_exporter": "python",
   "pygments_lexer": "ipython3",
   "version": "3.11.8"
  }
 },
 "nbformat": 4,
 "nbformat_minor": 5
}
