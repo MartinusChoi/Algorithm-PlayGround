{
 "cells": [
  {
   "cell_type": "code",
   "execution_count": 12,
   "id": "40b9367e",
   "metadata": {},
   "outputs": [],
   "source": [
    "def execute_cmd_line(table:list, trash_can:list, cur_pos:int, cmd_line:str) -> tuple:\n",
    "    if cmd_line.startswith('U'): cur_pos -= int(cmd_line.split(\" \")[1])\n",
    "    elif cmd_line.startswith('D'): cur_pos += int(cmd_line.split(\" \")[1])\n",
    "    elif cmd_line == \"C\":\n",
    "        trash_can.append(table.pop(cur_pos))\n",
    "        if cur_pos == len(table): cur_pos -= 1\n",
    "    elif cmd_line == \"Z\":\n",
    "        recent_val = trash_can.pop()\n",
    "        table.insert(recent_val, recent_val)\n",
    "        if recent_val <= cur_pos: cur_pos += 1\n",
    "    \n",
    "    return table, trash_can, cur_pos\n",
    "\n",
    "def solution(n:int, k:int, cmd:list):\n",
    "    is_removed = [\"O\"] * n\n",
    "    table = [idx for idx in range(n)]\n",
    "    trash_can = []\n",
    "    cur_pos = k\n",
    "\n",
    "    for cmd_line in cmd:\n",
    "        table, trash_can, cur_pos = execute_cmd_line(\n",
    "            table = table,\n",
    "            trash_can = trash_can,\n",
    "            cur_pos = cur_pos,\n",
    "            cmd_line = cmd_line\n",
    "        )\n",
    "        print(table, cur_pos)\n",
    "    \n",
    "    for removed_idx in trash_can:\n",
    "        is_removed[removed_idx] = \"X\"\n",
    "    \n",
    "    return \"\".join(is_removed)"
   ]
  },
  {
   "cell_type": "code",
   "execution_count": 23,
   "id": "e6181bfa",
   "metadata": {},
   "outputs": [
    {
     "name": "stdout",
     "output_type": "stream",
     "text": [
      "[0, 1, 2, 3, 4, 5, 6, 7] 4\n",
      "[0, 1, 2, 3, 5, 6, 7] 4\n",
      "[0, 1, 2, 3, 5, 6, 7] 1\n",
      "[0, 2, 3, 5, 6, 7] 1\n",
      "[0, 2, 3, 5, 6, 7] 5\n",
      "[0, 2, 3, 5, 6] 4\n",
      "[0, 2, 3, 5, 6] 2\n",
      "[0, 2, 3, 5, 6, 7] 2\n",
      "[0, 1, 2, 3, 5, 6, 7] 3\n"
     ]
    },
    {
     "data": {
      "text/plain": [
       "'OOOOXOOO'"
      ]
     },
     "execution_count": 23,
     "metadata": {},
     "output_type": "execute_result"
    }
   ],
   "source": [
    "n = 8\n",
    "k = 2\n",
    "cmd = [\n",
    "    \"D 2\",\n",
    "    \"C\",\n",
    "    \"U 3\",\n",
    "    \"C\",\n",
    "    \"D 4\",\n",
    "    \"C\",\n",
    "    \"U 2\",\n",
    "    \"Z\",\n",
    "    \"Z\"\n",
    "]\n",
    "\n",
    "solution(n, k, cmd)"
   ]
  },
  {
   "cell_type": "code",
   "execution_count": 14,
   "id": "c76b1204",
   "metadata": {},
   "outputs": [
    {
     "name": "stdout",
     "output_type": "stream",
     "text": [
      "[0, 1, 2, 3, 4, 5, 6, 7] 4\n",
      "[0, 1, 2, 3, 5, 6, 7] 4\n",
      "[0, 1, 2, 3, 5, 6, 7] 1\n",
      "[0, 2, 3, 5, 6, 7] 1\n",
      "[0, 2, 3, 5, 6, 7] 5\n",
      "[0, 2, 3, 5, 6] 4\n",
      "[0, 2, 3, 5, 6] 2\n",
      "[0, 2, 3, 5, 6, 7] 2\n",
      "[0, 1, 2, 3, 5, 6, 7] 3\n",
      "[0, 1, 2, 3, 5, 6, 7] 2\n",
      "[0, 1, 3, 5, 6, 7] 2\n"
     ]
    },
    {
     "data": {
      "text/plain": [
       "'OOXOXOOO'"
      ]
     },
     "execution_count": 14,
     "metadata": {},
     "output_type": "execute_result"
    }
   ],
   "source": [
    "n = 8\n",
    "k = 2\n",
    "cmd = [\n",
    "    \"D 2\",\n",
    "    \"C\",\n",
    "    \"U 3\",\n",
    "    \"C\",\n",
    "    \"D 4\",\n",
    "    \"C\",\n",
    "    \"U 2\",\n",
    "    \"Z\",\n",
    "    \"Z\",\n",
    "    \"U 1\",\n",
    "    \"C\"\n",
    "]\n",
    "\n",
    "solution(n, k, cmd)"
   ]
  },
  {
   "cell_type": "code",
   "execution_count": 22,
   "id": "42e149c5",
   "metadata": {},
   "outputs": [
    {
     "name": "stdout",
     "output_type": "stream",
     "text": [
      "[0, 2, 3, 4, 5, 6, 7] 1\n",
      "[0, 3, 4, 5, 6, 7] 1\n",
      "[0, 4, 5, 6, 7] 1\n",
      "[0, 5, 6, 7] 1\n",
      "[0, 6, 7] 1\n",
      "[0, 7] 1\n"
     ]
    },
    {
     "data": {
      "text/plain": [
       "'OXXXXXXO'"
      ]
     },
     "execution_count": 22,
     "metadata": {},
     "output_type": "execute_result"
    }
   ],
   "source": [
    "n = 8\n",
    "k = 1\n",
    "cmd = [\n",
    "    \"C\",\n",
    "    \"C\",\n",
    "    \"C\",\n",
    "    \"C\",\n",
    "    \"C\",\n",
    "    \"C\",\n",
    "]\n",
    "\n",
    "solution(n, k, cmd)"
   ]
  },
  {
   "cell_type": "code",
   "execution_count": null,
   "id": "7ea86a6d",
   "metadata": {},
   "outputs": [],
   "source": []
  }
 ],
 "metadata": {
  "kernelspec": {
   "display_name": "codingtest",
   "language": "python",
   "name": "python3"
  },
  "language_info": {
   "codemirror_mode": {
    "name": "ipython",
    "version": 3
   },
   "file_extension": ".py",
   "mimetype": "text/x-python",
   "name": "python",
   "nbconvert_exporter": "python",
   "pygments_lexer": "ipython3",
   "version": "3.11.8"
  }
 },
 "nbformat": 4,
 "nbformat_minor": 5
}
