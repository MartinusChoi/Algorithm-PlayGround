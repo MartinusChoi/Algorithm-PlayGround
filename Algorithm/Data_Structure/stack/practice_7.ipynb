{
 "cells": [
  {
   "cell_type": "code",
   "execution_count": 47,
   "id": "40b9367e",
   "metadata": {},
   "outputs": [],
   "source": [
    "def execute_cmd(cmd:str, trash_can:list, up:list, down:list, cursor:int, n:int) -> tuple:\n",
    "    if cmd.startswith(\"U\") : \n",
    "        for _ in range(int(cmd.split()[1])): cursor = up[cursor]\n",
    "\n",
    "    elif cmd.startswith(\"D\") :\n",
    "        for _ in range(int(cmd.split()[1])): cursor = down[cursor]\n",
    "\n",
    "    elif cmd == \"C\":\n",
    "        trash_can.append(cursor-1)\n",
    "        up[down[cursor]] = up[cursor]\n",
    "        down[up[cursor]] = down[cursor]\n",
    "        cursor = up[cursor] if n < down[cursor] else down[cursor]\n",
    "\n",
    "    elif cmd == \"Z\":\n",
    "        restored = trash_can.pop()+1\n",
    "        up[down[restored]] = restored\n",
    "        down[up[restored]] = restored\n",
    "    \n",
    "    return trash_can, up, down, cursor\n",
    "\n",
    "def solution(n, k, cmd):\n",
    "    trash_can = []\n",
    "    up = [i-1 for i in range(n+2)]\n",
    "    down = [i+1 for i in range(n+1)]\n",
    "    cursor = k+1\n",
    "    is_removed = [\"O\"] * n\n",
    "\n",
    "    for cmd_line in cmd:\n",
    "        trash_can, up, down, cursor = execute_cmd(\n",
    "            cmd = cmd_line,\n",
    "            trash_can=trash_can,\n",
    "            up=up,\n",
    "            down=down,\n",
    "            cursor=cursor,\n",
    "            n=n\n",
    "        )\n",
    "    \n",
    "    while len(trash_can) > 0 : is_removed[trash_can.pop()] = \"X\"\n",
    "\n",
    "    return \"\".join(is_removed)"
   ]
  },
  {
   "cell_type": "code",
   "execution_count": 48,
   "id": "e6181bfa",
   "metadata": {},
   "outputs": [
    {
     "data": {
      "text/plain": [
       "'OOOOXOOO'"
      ]
     },
     "execution_count": 48,
     "metadata": {},
     "output_type": "execute_result"
    }
   ],
   "source": [
    "n = 8\n",
    "k = 2\n",
    "cmd = [\n",
    "    \"D 2\",\n",
    "    \"C\",\n",
    "    \"U 3\",\n",
    "    \"C\",\n",
    "    \"D 4\",\n",
    "    \"C\",\n",
    "    \"U 2\",\n",
    "    \"Z\",\n",
    "    \"Z\"\n",
    "]\n",
    "\n",
    "solution(n, k, cmd)"
   ]
  },
  {
   "cell_type": "code",
   "execution_count": 49,
   "id": "c76b1204",
   "metadata": {},
   "outputs": [
    {
     "data": {
      "text/plain": [
       "'OOXOXOOO'"
      ]
     },
     "execution_count": 49,
     "metadata": {},
     "output_type": "execute_result"
    }
   ],
   "source": [
    "n = 8\n",
    "k = 2\n",
    "cmd = [\n",
    "    \"D 2\",\n",
    "    \"C\",\n",
    "    \"U 3\",\n",
    "    \"C\",\n",
    "    \"D 4\",\n",
    "    \"C\",\n",
    "    \"U 2\",\n",
    "    \"Z\",\n",
    "    \"Z\",\n",
    "    \"U 1\",\n",
    "    \"C\"\n",
    "]\n",
    "\n",
    "solution(n, k, cmd)"
   ]
  }
 ],
 "metadata": {
  "kernelspec": {
   "display_name": "codingtest",
   "language": "python",
   "name": "python3"
  },
  "language_info": {
   "codemirror_mode": {
    "name": "ipython",
    "version": 3
   },
   "file_extension": ".py",
   "mimetype": "text/x-python",
   "name": "python",
   "nbconvert_exporter": "python",
   "pygments_lexer": "ipython3",
   "version": "3.11.8"
  }
 },
 "nbformat": 4,
 "nbformat_minor": 5
}
