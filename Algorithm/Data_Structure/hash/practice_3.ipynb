{
 "cells": [
  {
   "cell_type": "code",
   "execution_count": null,
   "id": "f27f5c1d",
   "metadata": {},
   "outputs": [],
   "source": [
    "def get_hash_table(participant, completion):\n",
    "    hash_table = {name:0 for name in set(participant)}\n",
    "\n",
    "    for name in participant: hash_table[name] += 1\n",
    "    for name in completion: hash_table[name] -= 1\n",
    "\n",
    "    return hash_table\n",
    "\n",
    "def solution(participant, completion):\n",
    "    hash_table = get_hash_table(participant, completion)\n",
    "\n",
    "    for name in participant:\n",
    "        if hash_table[name] > 0 : return name"
   ]
  },
  {
   "cell_type": "code",
   "execution_count": 31,
   "id": "beefa342",
   "metadata": {},
   "outputs": [
    {
     "data": {
      "text/plain": [
       "'vinko'"
      ]
     },
     "execution_count": 31,
     "metadata": {},
     "output_type": "execute_result"
    }
   ],
   "source": [
    "participant = [\"marina\", \"josipa\", \"nikola\", \"vinko\", \"filipa\"]\n",
    "completion = [\"josipa\", \"filipa\", \"marina\", \"nikola\"]\n",
    "\n",
    "solution(participant, completion)"
   ]
  },
  {
   "cell_type": "code",
   "execution_count": 32,
   "id": "3e9cd833",
   "metadata": {},
   "outputs": [
    {
     "data": {
      "text/plain": [
       "'minslav'"
      ]
     },
     "execution_count": 32,
     "metadata": {},
     "output_type": "execute_result"
    }
   ],
   "source": [
    "participant = [\"minslav\", \"stanko\", \"minslav\", \"ana\"]\n",
    "completion = [\"stanko\", \"ana\", \"minslav\"]\n",
    "\n",
    "solution(participant, completion)"
   ]
  },
  {
   "cell_type": "code",
   "execution_count": null,
   "id": "ab9f5acd",
   "metadata": {},
   "outputs": [],
   "source": []
  }
 ],
 "metadata": {
  "kernelspec": {
   "display_name": "codingtest",
   "language": "python",
   "name": "python3"
  },
  "language_info": {
   "codemirror_mode": {
    "name": "ipython",
    "version": 3
   },
   "file_extension": ".py",
   "mimetype": "text/x-python",
   "name": "python",
   "nbconvert_exporter": "python",
   "pygments_lexer": "ipython3",
   "version": "3.11.8"
  }
 },
 "nbformat": 4,
 "nbformat_minor": 5
}
