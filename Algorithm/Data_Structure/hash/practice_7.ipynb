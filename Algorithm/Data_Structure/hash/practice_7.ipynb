{
 "cells": [
  {
   "cell_type": "code",
   "execution_count": 57,
   "id": "0996b9c0",
   "metadata": {},
   "outputs": [],
   "source": [
    "from collections import Counter\n",
    "\n",
    "def get_reportusers_per_user(report:list) -> dict:\n",
    "    result = {}\n",
    "    \n",
    "    for report_content in report:\n",
    "        user_id, reported_id = report_content.split(\" \")\n",
    "        if user_id in result: result[user_id].add(reported_id)\n",
    "        else: result[user_id] = {reported_id}\n",
    "    \n",
    "    return result\n",
    "\n",
    "def get_reportnum_per_user(reportusers_per_user:dict) -> dict:\n",
    "    report_pool = []\n",
    "\n",
    "    for reportuser_set in reportusers_per_user.values():\n",
    "        report_pool.extend(list(reportuser_set))\n",
    "    \n",
    "    return Counter(report_pool)\n",
    "\n",
    "def get_banned_users(reportnum_per_user:dict, k:int) -> set:\n",
    "    banned_users = set()\n",
    "\n",
    "    for user_id, report_num in reportnum_per_user.items():\n",
    "        if report_num >= k : banned_users.add(user_id)\n",
    "    \n",
    "    return banned_users\n",
    "\n",
    "def solution(id_list:list, report:list, k:int) -> list:\n",
    "    reportusers_per_user = get_reportusers_per_user(report)\n",
    "    reportnum_per_user = get_reportnum_per_user(reportusers_per_user)\n",
    "    banned_users = get_banned_users(reportnum_per_user, k)\n",
    "\n",
    "    mail_nums = []\n",
    "    for user_id in id_list:\n",
    "        if user_id in reportusers_per_user:\n",
    "            mail_nums.append(len(reportusers_per_user[user_id] & banned_users))\n",
    "        else:\n",
    "            mail_nums.append(0)\n",
    "\n",
    "    return mail_nums"
   ]
  },
  {
   "cell_type": "code",
   "execution_count": 58,
   "id": "95dc1043",
   "metadata": {},
   "outputs": [
    {
     "data": {
      "text/plain": [
       "[2, 1, 1, 0]"
      ]
     },
     "execution_count": 58,
     "metadata": {},
     "output_type": "execute_result"
    }
   ],
   "source": [
    "id_list = [\n",
    "    \"muzi\",\n",
    "    \"frodo\",\n",
    "    \"apeach\",\n",
    "    \"neo\"\n",
    "]\n",
    "report = [\n",
    "    \"muzi frodo\",\n",
    "    \"apeach frodo\",\n",
    "    \"frodo neo\",\n",
    "    \"muzi neo\",\n",
    "    \"apeach muzi\"\n",
    "]\n",
    "k=2\n",
    "\n",
    "solution(id_list, report, k)"
   ]
  },
  {
   "cell_type": "code",
   "execution_count": null,
   "id": "6cedfbf5",
   "metadata": {},
   "outputs": [],
   "source": []
  }
 ],
 "metadata": {
  "kernelspec": {
   "display_name": "codingtest",
   "language": "python",
   "name": "python3"
  },
  "language_info": {
   "codemirror_mode": {
    "name": "ipython",
    "version": 3
   },
   "file_extension": ".py",
   "mimetype": "text/x-python",
   "name": "python",
   "nbconvert_exporter": "python",
   "pygments_lexer": "ipython3",
   "version": "3.11.8"
  }
 },
 "nbformat": 4,
 "nbformat_minor": 5
}
