{
 "cells": [
  {
   "cell_type": "code",
   "execution_count": 10,
   "id": "6b8517a7",
   "metadata": {},
   "outputs": [],
   "source": [
    "import math\n",
    "\n",
    "def hash(string:str)->int:\n",
    "    p=31\n",
    "    m=1000000007\n",
    "    char_to_int = {char:(i+1) for i, char in enumerate(['a', 'b', 'c', 'd', 'e', 'f', 'g', 'h', 'i', 'j', \n",
    "                                                        'k', 'l', 'm', 'n', 'o', 'p', 'q', 'r', 's', 't', \n",
    "                                                        'u', 'v', 'w', 'x', 'y', 'z'])}\n",
    "    return sum([char_to_int[string[i]] * int(math.pow(p, i)) for i in range(len(string))]) % m\n",
    "\n",
    "def get_hash_table(string_list:list, query_list:list)->dict:\n",
    "    omega = set(string_list+query_list)\n",
    "    hash_table = {hash(string):0 for string in omega}\n",
    "    for string in string_list: hash_table[hash(string)] += 1\n",
    "    return hash_table\n",
    "\n",
    "def solution(string_list:list, query_list:list)->list:\n",
    "    hash_table = get_hash_table(string_list, query_list)\n",
    "    is_exists = []\n",
    "\n",
    "    for query in query_list:\n",
    "        if hash_table[hash(query)] == 1 : is_exists.append(True)\n",
    "        else: is_exists.append(False)\n",
    "    \n",
    "    return is_exists"
   ]
  },
  {
   "cell_type": "code",
   "execution_count": 11,
   "id": "a3addd68",
   "metadata": {},
   "outputs": [
    {
     "data": {
      "text/plain": [
       "[True, False, False, True]"
      ]
     },
     "execution_count": 11,
     "metadata": {},
     "output_type": "execute_result"
    }
   ],
   "source": [
    "string_list = [\"apple\", \"banana\", \"cherry\"]\n",
    "query_list = [\"banana\", \"kiwi\", \"melon\", \"apple\"]\n",
    "\n",
    "solution(string_list, query_list)"
   ]
  },
  {
   "cell_type": "code",
   "execution_count": 12,
   "id": "ba178736",
   "metadata": {},
   "outputs": [
    {
     "data": {
      "text/plain": [
       "[True, False, True, True]"
      ]
     },
     "execution_count": 12,
     "metadata": {},
     "output_type": "execute_result"
    }
   ],
   "source": [
    "string_list = [\"apple\", \"banana\", \"cherry\"]\n",
    "query_list = [\"banana\", \"kiwi\", \"cherry\", \"apple\"]\n",
    "\n",
    "solution(string_list, query_list)"
   ]
  }
 ],
 "metadata": {
  "kernelspec": {
   "display_name": "codingtest",
   "language": "python",
   "name": "python3"
  },
  "language_info": {
   "codemirror_mode": {
    "name": "ipython",
    "version": 3
   },
   "file_extension": ".py",
   "mimetype": "text/x-python",
   "name": "python",
   "nbconvert_exporter": "python",
   "pygments_lexer": "ipython3",
   "version": "3.11.8"
  }
 },
 "nbformat": 4,
 "nbformat_minor": 5
}
