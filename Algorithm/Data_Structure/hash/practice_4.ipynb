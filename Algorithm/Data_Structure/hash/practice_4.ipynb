{
 "cells": [
  {
   "cell_type": "code",
   "execution_count": 7,
   "id": "ed97cc13",
   "metadata": {},
   "outputs": [],
   "source": [
    "def get_hash_table(want:list, number:list) -> dict:\n",
    "    return {product:amount for product, amount in zip(want, number)}\n",
    "\n",
    "def solution(want:list, number:list, discount:list):\n",
    "    window_left = 0\n",
    "    window_right = 10\n",
    "    good_days = 0\n",
    "\n",
    "    while window_right <= len(discount):\n",
    "        hash_table = get_hash_table(want, number)\n",
    "        discount_window = discount[window_left:window_right]\n",
    "        completed_product = 0\n",
    "\n",
    "        for product in discount_window:\n",
    "            if product in hash_table.keys(): \n",
    "                hash_table[product] -= 1\n",
    "                if hash_table[product] == 0 : completed_product += 1\n",
    "        \n",
    "        if completed_product == len(want) : good_days += 1\n",
    "\n",
    "        window_left += 1\n",
    "        window_right += 1\n",
    "    \n",
    "    return good_days"
   ]
  },
  {
   "cell_type": "code",
   "execution_count": 8,
   "id": "d3f5f033",
   "metadata": {},
   "outputs": [
    {
     "data": {
      "text/plain": [
       "3"
      ]
     },
     "execution_count": 8,
     "metadata": {},
     "output_type": "execute_result"
    }
   ],
   "source": [
    "want = [\"banana\", \"apple\", \"rice\", \"pork\", \"pot\"]\n",
    "number = [3,2,2,2,1]\n",
    "discount = [\"chicken\", \"apple\", \"apple\", \"banana\", \"rice\", \n",
    "            \"apple\", \"pork\", \"banana\", \"pork\", \"rice\", \"pot\",\n",
    "            \"banana\", \"apple\", \"banana\"]\n",
    "\n",
    "solution(want, number, discount)"
   ]
  },
  {
   "cell_type": "code",
   "execution_count": 9,
   "id": "64b1c4b1",
   "metadata": {},
   "outputs": [
    {
     "data": {
      "text/plain": [
       "0"
      ]
     },
     "execution_count": 9,
     "metadata": {},
     "output_type": "execute_result"
    }
   ],
   "source": [
    "want = [\"apple\"]\n",
    "number = [10]\n",
    "discount = [\"banana\", \"banana\", \"banana\", \"banana\", \"banana\",\n",
    "            \"banana\", \"banana\", \"banana\", \"banana\", \"banana\"]\n",
    "\n",
    "solution(want, number, discount)"
   ]
  }
 ],
 "metadata": {
  "kernelspec": {
   "display_name": "codingtest",
   "language": "python",
   "name": "python3"
  },
  "language_info": {
   "codemirror_mode": {
    "name": "ipython",
    "version": 3
   },
   "file_extension": ".py",
   "mimetype": "text/x-python",
   "name": "python",
   "nbconvert_exporter": "python",
   "pygments_lexer": "ipython3",
   "version": "3.11.8"
  }
 },
 "nbformat": 4,
 "nbformat_minor": 5
}
