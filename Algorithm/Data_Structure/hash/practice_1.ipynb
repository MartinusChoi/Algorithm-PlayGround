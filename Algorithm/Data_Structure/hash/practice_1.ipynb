{
 "cells": [
  {
   "cell_type": "code",
   "execution_count": 40,
   "id": "13f506b7",
   "metadata": {},
   "outputs": [],
   "source": [
    "def hash(target:int, x:int) -> int:\n",
    "    return target - x\n",
    "\n",
    "def solution(arr:list, target:int) -> str:\n",
    "    hash_table = {i:[] for i in range(target)}\n",
    "    participates = []\n",
    "\n",
    "    for element in arr : \n",
    "        if element < target: \n",
    "            hash_table[element].append(element)\n",
    "            participates.append(element)\n",
    "\n",
    "    for element in participates : \n",
    "        if hash_table[hash(target, element)] and hash(target, element) != element: return True\n",
    "    \n",
    "    return False"
   ]
  },
  {
   "cell_type": "code",
   "execution_count": 41,
   "id": "e23323aa",
   "metadata": {},
   "outputs": [
    {
     "data": {
      "text/plain": [
       "True"
      ]
     },
     "execution_count": 41,
     "metadata": {},
     "output_type": "execute_result"
    }
   ],
   "source": [
    "arr = [1,2,3,4,8]\n",
    "target = 6\n",
    "\n",
    "solution(arr, target)"
   ]
  },
  {
   "cell_type": "code",
   "execution_count": 42,
   "id": "470deb16",
   "metadata": {},
   "outputs": [
    {
     "data": {
      "text/plain": [
       "False"
      ]
     },
     "execution_count": 42,
     "metadata": {},
     "output_type": "execute_result"
    }
   ],
   "source": [
    "arr = [2,3,5,9]\n",
    "target = 10\n",
    "\n",
    "solution(arr, target)"
   ]
  }
 ],
 "metadata": {
  "kernelspec": {
   "display_name": "codingtest",
   "language": "python",
   "name": "python3"
  },
  "language_info": {
   "codemirror_mode": {
    "name": "ipython",
    "version": 3
   },
   "file_extension": ".py",
   "mimetype": "text/x-python",
   "name": "python",
   "nbconvert_exporter": "python",
   "pygments_lexer": "ipython3",
   "version": "3.11.8"
  }
 },
 "nbformat": 4,
 "nbformat_minor": 5
}
