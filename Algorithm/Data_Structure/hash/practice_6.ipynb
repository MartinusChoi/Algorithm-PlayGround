{
 "cells": [
  {
   "cell_type": "code",
   "execution_count": 33,
   "id": "ed3a90a5",
   "metadata": {},
   "outputs": [],
   "source": [
    "def get_genre_order(genres:list, plays:list) -> list:\n",
    "    plays_per_genre = {}\n",
    "    for genre, play in zip(genres, plays):\n",
    "        if genre in plays_per_genre: plays_per_genre[genre] += play\n",
    "        else: plays_per_genre[genre] = play\n",
    "    plays_to_genre = {play:genre for genre, play in plays_per_genre.items()}\n",
    "\n",
    "    return [plays_to_genre[play] for play in sorted(plays_per_genre.values(), reverse=True)]\n",
    "\n",
    "def get_hash_per_genre(genres:list, plays:list)->list:\n",
    "    hash_table = {}\n",
    "    for idx, entity in enumerate(zip(genres, plays)):\n",
    "        genre, play = entity[0], entity[1]\n",
    "        if genre in hash_table: \n",
    "            if play in hash_table[genre]: hash_table[genre][play].append(idx)\n",
    "            else: hash_table[genre][play] = [idx]\n",
    "        else: hash_table[genre] = {play:[idx]}\n",
    "    \n",
    "    for genre, play in zip(genres, plays):\n",
    "        if len(hash_table[genre][play]) >= 2: hash_table[genre][play] = sorted(hash_table[genre][play])\n",
    "    \n",
    "    return hash_table\n",
    "\n",
    "def solution(genres:list, plays:list)->list:\n",
    "    hash_table = get_hash_per_genre(genres, plays)\n",
    "    genre_order = get_genre_order(genres, plays)\n",
    "    playlist = []\n",
    "\n",
    "    for genre in genre_order:\n",
    "        if len(hash_table[genre].keys()) == 1:\n",
    "            playlist.append(hash_table[genre][list(hash_table[genre].keys())[0]][0])\n",
    "        else : \n",
    "            top_1, top_2 = sorted(hash_table[genre].keys(), reverse=True)[:2]\n",
    "            if len(hash_table[genre][top_1]) >= 2: playlist.extend(hash_table[genre][top_1][:2])\n",
    "            else: playlist.extend([hash_table[genre][top_1][0], hash_table[genre][top_2][0]])\n",
    "    \n",
    "    return playlist"
   ]
  },
  {
   "cell_type": "code",
   "execution_count": 34,
   "id": "c6646861",
   "metadata": {},
   "outputs": [
    {
     "data": {
      "text/plain": [
       "[4, 1, 3, 0]"
      ]
     },
     "execution_count": 34,
     "metadata": {},
     "output_type": "execute_result"
    }
   ],
   "source": [
    "genres = [\n",
    "    \"classic\",\n",
    "    \"pop\",\n",
    "    \"classic\",\n",
    "    \"classic\",\n",
    "    \"pop\"\n",
    "]\n",
    "plays = [\n",
    "    500,\n",
    "    600,\n",
    "    150,\n",
    "    800,\n",
    "    2500\n",
    "]\n",
    "\n",
    "solution(genres, plays)"
   ]
  },
  {
   "cell_type": "code",
   "execution_count": 35,
   "id": "9c1f97fd",
   "metadata": {},
   "outputs": [
    {
     "data": {
      "text/plain": [
       "[2, 1, 0]"
      ]
     },
     "execution_count": 35,
     "metadata": {},
     "output_type": "execute_result"
    }
   ],
   "source": [
    "genres = [\n",
    "    \"classic\",\n",
    "    \"pop\",\n",
    "    \"pop\"\n",
    "]\n",
    "plays = [\n",
    "    500,\n",
    "    600,\n",
    "    2500\n",
    "]\n",
    "\n",
    "solution(genres, plays)"
   ]
  }
 ],
 "metadata": {
  "kernelspec": {
   "display_name": "codingtest",
   "language": "python",
   "name": "python3"
  },
  "language_info": {
   "codemirror_mode": {
    "name": "ipython",
    "version": 3
   },
   "file_extension": ".py",
   "mimetype": "text/x-python",
   "name": "python",
   "nbconvert_exporter": "python",
   "pygments_lexer": "ipython3",
   "version": "3.11.8"
  }
 },
 "nbformat": 4,
 "nbformat_minor": 5
}
