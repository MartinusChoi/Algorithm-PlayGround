{
 "cells": [
  {
   "cell_type": "code",
   "execution_count": 72,
   "id": "910afd6f",
   "metadata": {},
   "outputs": [],
   "source": [
    "from itertools import combinations\n",
    "from collections import Counter\n",
    "\n",
    "def solution(orders:list, course:list) -> list:\n",
    "    answer = []\n",
    "\n",
    "    for c in course:\n",
    "        menu = []\n",
    "\n",
    "        for order in orders:\n",
    "            comb = combinations(\n",
    "                sorted(order), c\n",
    "            )\n",
    "            menu += comb\n",
    "        \n",
    "        counter = Counter(menu)\n",
    "\n",
    "        if (\n",
    "            len(counter)!=0 and max(counter.values()) != 1\n",
    "        ):\n",
    "            for m, cnt in counter.items():\n",
    "                if cnt == max(counter.values()):\n",
    "                    answer.append(\"\".join(m))\n",
    "    \n",
    "    return sorted(answer)"
   ]
  },
  {
   "cell_type": "code",
   "execution_count": 73,
   "id": "1a0cd66a",
   "metadata": {},
   "outputs": [
    {
     "data": {
      "text/plain": [
       "['AC', 'ACDE', 'BCFG', 'CDE']"
      ]
     },
     "execution_count": 73,
     "metadata": {},
     "output_type": "execute_result"
    }
   ],
   "source": [
    "orders = [\n",
    "    \"ABCFG\",\n",
    "    \"AC\",\n",
    "    \"CDE\",\n",
    "    \"ACDE\",\n",
    "    \"BCFG\",\n",
    "    \"ACDEH\"\n",
    "]\n",
    "\n",
    "course = [2,3,4]\n",
    "\n",
    "solution(orders, course)"
   ]
  }
 ],
 "metadata": {
  "kernelspec": {
   "display_name": "codingtest",
   "language": "python",
   "name": "python3"
  },
  "language_info": {
   "codemirror_mode": {
    "name": "ipython",
    "version": 3
   },
   "file_extension": ".py",
   "mimetype": "text/x-python",
   "name": "python",
   "nbconvert_exporter": "python",
   "pygments_lexer": "ipython3",
   "version": "3.11.8"
  }
 },
 "nbformat": 4,
 "nbformat_minor": 5
}
