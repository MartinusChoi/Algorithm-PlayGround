{
 "cells": [
  {
   "cell_type": "code",
   "execution_count": 10,
   "id": "a4ea485d",
   "metadata": {},
   "outputs": [],
   "source": [
    "def solution(record:list) -> list:\n",
    "    user_table = {}\n",
    "    cur_msg_idx = 0\n",
    "    messages = []\n",
    "\n",
    "    for record_content in record:\n",
    "        record_contents = record_content.split()\n",
    "        if len(record_contents) == 2: key, user_id = record_contents[0], record_contents[1]\n",
    "        else : key, user_id, name = record_contents[0], record_contents[1], record_contents[2]\n",
    "\n",
    "        if key == 'Enter':\n",
    "            if user_id in user_table:\n",
    "                if user_table[user_id][0] != name: user_table[user_id][0] = name\n",
    "                user_table[user_id][1].append(cur_msg_idx)\n",
    "            else:\n",
    "                user_table[user_id] = [name, [cur_msg_idx]]\n",
    "            messages.append(\"{name}님이 들어왔습니다.\")\n",
    "            cur_msg_idx += 1\n",
    "        \n",
    "        elif key == 'Leave':\n",
    "            user_table[user_id][1].append(cur_msg_idx)\n",
    "            messages.append(\"{name}님이 나갔습니다.\")\n",
    "            cur_msg_idx += 1\n",
    "        \n",
    "        elif key == 'Change':\n",
    "            user_table[user_id][0] = name\n",
    "        \n",
    "    for user_id in user_table.keys():\n",
    "        for msg_idx in user_table[user_id][1]:\n",
    "            messages[msg_idx] = messages[msg_idx].format(name=user_table[user_id][0])\n",
    "    \n",
    "    return messages"
   ]
  },
  {
   "cell_type": "code",
   "execution_count": 11,
   "id": "1a49e099",
   "metadata": {},
   "outputs": [
    {
     "data": {
      "text/plain": [
       "['Prodo님이 들어왔습니다.', 'Ryan님이 들어왔습니다.', 'Prodo님이 나갔습니다.', 'Prodo님이 들어왔습니다.']"
      ]
     },
     "execution_count": 11,
     "metadata": {},
     "output_type": "execute_result"
    }
   ],
   "source": [
    "record = [\n",
    "    \"Enter uid1234 Muzi\",\n",
    "    \"Enter uid4567 Prodo\",\n",
    "    \"Leave uid1234\",\n",
    "    \"Enter uid1234 Prodo\",\n",
    "    \"Change uid4567 Ryan\"\n",
    "]\n",
    "\n",
    "solution(record)"
   ]
  }
 ],
 "metadata": {
  "kernelspec": {
   "display_name": "codingtest",
   "language": "python",
   "name": "python3"
  },
  "language_info": {
   "codemirror_mode": {
    "name": "ipython",
    "version": 3
   },
   "file_extension": ".py",
   "mimetype": "text/x-python",
   "name": "python",
   "nbconvert_exporter": "python",
   "pygments_lexer": "ipython3",
   "version": "3.11.8"
  }
 },
 "nbformat": 4,
 "nbformat_minor": 5
}
